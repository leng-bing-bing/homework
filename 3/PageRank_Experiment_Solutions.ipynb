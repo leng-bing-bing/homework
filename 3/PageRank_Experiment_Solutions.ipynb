{
 "cells": [
  {
   "cell_type": "markdown",
   "metadata": {},
   "source": [
    "## PageRank 实验 _ solutions"
   ]
  },
  {
   "cell_type": "markdown",
   "metadata": {},
   "source": [
    "### Problem 1"
   ]
  },
  {
   "cell_type": "code",
   "execution_count": 1,
   "metadata": {},
   "outputs": [
    {
     "data": {
      "text/plain": [
       "array([[0, 0, 0, 0, 0, 0, 0, 1],\n",
       "       [1, 0, 0, 0, 0, 0, 0, 0],\n",
       "       [0, 0, 0, 0, 0, 0, 0, 0],\n",
       "       [1, 0, 1, 0, 0, 0, 1, 0],\n",
       "       [1, 0, 0, 0, 0, 1, 1, 0],\n",
       "       [1, 0, 0, 0, 0, 0, 1, 0],\n",
       "       [1, 0, 0, 0, 0, 0, 0, 0],\n",
       "       [1, 0, 0, 0, 0, 0, 0, 0]])"
      ]
     },
     "execution_count": 1,
     "metadata": {},
     "output_type": "execute_result"
    }
   ],
   "source": [
    "import numpy as np\n",
    "\n",
    "def to_matrix(filename, n):\n",
    "    \"\"\"Return the n x n adjacency matrix described by datafile.\n",
    "\n",
    "    Parameters:\n",
    "        datafile (str): The name of a .txt file describing a directed graph.\n",
    "        Lines describing edges should have the form '<from node>\\t<to node>\\n'.\n",
    "        The file may also include comments.\n",
    "        n (int): The number of nodes in the graph described by datafile\n",
    "\n",
    "    Returns:\n",
    "        An adjacency matrix (ndarray).\n",
    "    \"\"\"\n",
    "    edge_list = []    # 初始化一个列表, 用于存储边\n",
    "    \n",
    "    adj = np.zeros((n, n), dtype=int)    # 初始化邻接矩阵\n",
    "   \n",
    "    with open(filename, 'r') as myfile:\n",
    "        for line in myfile:\n",
    "            edge_list.append(line.strip().split())\n",
    "    \n",
    "    for edge in edge_list:\n",
    "        \n",
    "        # 如果存在顶点edge[0] -> e顶点edge[1]的边,\n",
    "        # 则邻接矩阵的edge[0]行、edge[1]列的值为1\n",
    "        \n",
    "        # 异常处理: edge_list列表中可能包含文件中的文字说明部分        \n",
    "        try:\n",
    "            adj[int(edge[0]), int(edge[1])] = 1\n",
    "        except:\n",
    "            continue\n",
    "\n",
    "    return adj\n",
    "    \n",
    "to_matrix('matrix.txt', 8)"
   ]
  },
  {
   "cell_type": "markdown",
   "metadata": {},
   "source": [
    "### Problem 2"
   ]
  },
  {
   "cell_type": "code",
   "execution_count": 2,
   "metadata": {},
   "outputs": [
    {
     "data": {
      "text/plain": [
       "array([[0.        , 1.        , 0.125     , 0.33333333, 0.33333333,\n",
       "        0.5       , 1.        , 1.        ],\n",
       "       [0.        , 0.        , 0.125     , 0.        , 0.        ,\n",
       "        0.        , 0.        , 0.        ],\n",
       "       [0.        , 0.        , 0.125     , 0.33333333, 0.        ,\n",
       "        0.        , 0.        , 0.        ],\n",
       "       [0.        , 0.        , 0.125     , 0.        , 0.        ,\n",
       "        0.        , 0.        , 0.        ],\n",
       "       [0.        , 0.        , 0.125     , 0.        , 0.        ,\n",
       "        0.        , 0.        , 0.        ],\n",
       "       [0.        , 0.        , 0.125     , 0.        , 0.33333333,\n",
       "        0.        , 0.        , 0.        ],\n",
       "       [0.        , 0.        , 0.125     , 0.33333333, 0.33333333,\n",
       "        0.5       , 0.        , 0.        ],\n",
       "       [1.        , 0.        , 0.125     , 0.        , 0.        ,\n",
       "        0.        , 0.        , 0.        ]])"
      ]
     },
     "execution_count": 2,
     "metadata": {},
     "output_type": "execute_result"
    }
   ],
   "source": [
    "def calculateK(A,N):\n",
    "    \"\"\"Compute the matrix K as described in the lab.\n",
    "\n",
    "    Parameters:\n",
    "        A (ndarray): adjacency matrix of a gragh\n",
    "        N (int): the number of nodes in the graph\n",
    "\n",
    "    Returns:\n",
    "        K (ndarray)\n",
    "    \"\"\"\n",
    "    \n",
    "    K = np.zeros((N,N))    # 初始化转移矩阵\n",
    "    \n",
    "    # 按定义计算转移矩阵K, 没有采用实验文档描述的方法\n",
    "    for i in range(N):     \n",
    "        out = A[i].sum()    # 计算顶点的出度\n",
    "        \n",
    "        # 如果存在sink顶点, 修改邻接矩阵\n",
    "        if (out == 0):\n",
    "            A[i] = np.ones(N)\n",
    "            out = N\n",
    "        \n",
    "        for j in range(N):     \n",
    "            if (A[i, j] == 1):          \n",
    "                K[j, i] = 1 / out\n",
    "        \n",
    "    return K\n",
    "\n",
    "def unmodify_calculateK(A,N):\n",
    "    \"\"\"计算转移矩阵K, 不修改邻接矩阵, 即不处理sink顶点.\n",
    "\n",
    "    Parameters:\n",
    "        A (ndarray): adjacency matrix of a gragh\n",
    "        N (int): the number of nodes in the graph\n",
    "\n",
    "    Returns:\n",
    "        K (ndarray)\n",
    "    \"\"\"\n",
    "    \n",
    "    K = np.zeros((N,N))    # 初始化转移矩阵\n",
    "    \n",
    "    # 计算转移矩阵, 按定义计算, 没有采用实验文档描述的方法\n",
    "    for i in range(N):       \n",
    "        out = A[i].sum()    # 计算顶点的出度\n",
    "        \n",
    "        for j in range(N):          \n",
    "            if (A[i, j] == 1):     \n",
    "                K[j, i] = 1 / out\n",
    "        \n",
    "    return K\n",
    "\n",
    "A = to_matrix('matrix.txt', 8)\n",
    "calculateK(A, 8)"
   ]
  },
  {
   "cell_type": "markdown",
   "metadata": {},
   "source": [
    "### Problem 3"
   ]
  },
  {
   "cell_type": "code",
   "execution_count": 3,
   "metadata": {},
   "outputs": [
    {
     "name": "stdout",
     "output_type": "stream",
     "text": [
      "\u001b[1m顶点0到顶点7的PageRank值(PR值):\n",
      "\u001b[0m\n",
      "[[0.43870932]\n",
      " [0.02171029]\n",
      " [0.02786154]\n",
      " [0.02171029]\n",
      " [0.02171029]\n",
      " [0.02786154]\n",
      " [0.04585394]\n",
      " [0.39460966]]\n"
     ]
    }
   ],
   "source": [
    "def less_than_tol(err_list, tol): \n",
    "    \"\"\"To check if all the value in |P(t+1)-P(t)| are\n",
    "    less than a given tolerance 'tol'.\n",
    "    \n",
    "    Parameters:\n",
    "        err_list (list): |P(t+1)-P(t)|.\n",
    "        tol (float): the given tolerance value.\n",
    "        \n",
    "    Returns: Boolean.    \n",
    "    \"\"\"\n",
    "       \n",
    "    for x in err_list:\n",
    "\n",
    "        if tol <= x: \n",
    "            \n",
    "            return False\n",
    "        \n",
    "    return True\n",
    "\n",
    "def iter_solve(adj, max_iter=100, d=0.85, tol=1e-5):\n",
    "    \"\"\"Return the page ranks of the network described by 'adj'.\n",
    "    Iterate through the PageRank algorithm until the error is less than 'tol'.\n",
    "\n",
    "    Parameters:\n",
    "        adj (ndarray): The adjacency matrix of a directed graph.\n",
    "        max_iter (int): the Maximum number of iterations.\n",
    "        d (float): The damping factor, a float between 0 and 1.\n",
    "        tol (float): Stop iterating when the change in approximations to\n",
    "        the solution is less than 'tol'.\n",
    "\n",
    "    Returns:\n",
    "        The approximation to the steady state.\n",
    "    \"\"\"\n",
    "    n = adj.shape[0]    # n is the number of nodes\n",
    "    \n",
    "    I = np.ones(n).reshape(-1, 1)    \n",
    "    \n",
    "    # 两种初始化方法，任选一种\n",
    "    # p = 1 / n * I    # 均匀初始化 pagerank 值\n",
    "    p = np.random.rand(n).reshape(-1,1)    # 随机初始化 pagerank 值\n",
    "    \n",
    "    # 计算转移矩阵K\n",
    "    K = calculateK(adj, n)\n",
    "    # K = unmodify_calculateK(adj, n)\n",
    "    \n",
    "    for i in range(max_iter):\n",
    "        \n",
    "        prev_p = p    \n",
    "        \n",
    "        # pagerank 公式, p --> p(t+1), prev_p --> p(t)\n",
    "        p = d * np.matmul(K, prev_p) + (1 - d) / n * I\n",
    "        \n",
    "        err_list = [abs(p[j] - prev_p[j]) for j in range(n)]    # |P(t+1) - P(t)|\n",
    "        \n",
    "#         if sum(err_list) < n*tol:\n",
    "#             return p\n",
    "        # 检查err_list中的每一项是否比允许的tol值小\n",
    "        if less_than_tol(err_list, tol):          \n",
    "            return p\n",
    "        \n",
    "    return p\n",
    "    \n",
    "def main():\n",
    "\n",
    "    print(\"\\033[1m顶点0到顶点7的PageRank值(PR值):\\n\\033[0m\")\n",
    "    \n",
    "    adj = to_matrix(\"matrix.txt\", 8)\n",
    "    \n",
    "    print(iter_solve(adj))\n",
    "    \n",
    "if __name__ == '__main__':\n",
    "    main()"
   ]
  },
  {
   "cell_type": "markdown",
   "metadata": {},
   "source": [
    "<font color = blue>用unmodify_calculateK（第44行）替换calculateK（第43行），重新运行程序，对比两次输出的PR值，结合图结构从直观上进行分析。</font>  \n",
    "<font color = blue>提示1：顶点0的PR值是最大的，顶点7的值第二大，顶点1、3、4的PR值相同且最小，顶点2、5的PR值相同。</font>  \n",
    "<font color = blue>提示2：实验文档中NetworkX部分代码有误，请自行更正。</font>"
   ]
  },
  {
   "cell_type": "markdown",
   "metadata": {},
   "source": [
    "### Problem 4"
   ]
  },
  {
   "cell_type": "code",
   "execution_count": 4,
   "metadata": {},
   "outputs": [
    {
     "name": "stdout",
     "output_type": "stream",
     "text": [
      "\u001b[1mThe Top 5 teams and ranks are:\u001b[0m\n",
      "Duke \t 0.009676031477973064\n",
      "Butler \t 0.008549790147970566\n",
      "Louisville \t 0.008508874610734454\n",
      "Illinois \t 0.008347320815693218\n",
      "Indiana \t 0.008238267781649154\n"
     ]
    }
   ],
   "source": [
    "import numpy as np\n",
    "\n",
    "def team_rank(filename='ncaa2013.csv'):\n",
    "    \"\"\"Use iter_solve() to predict the rankings of the teams in the given\n",
    "    dataset of games. The dataset should have two columns, representing\n",
    "    winning and losing teams. Each row represents a game, with the winner on\n",
    "    the left, loser on the right. Parse this data to create the adjacency\n",
    "    matrix, and feed this into the solver to predict the team ranks.\n",
    "\n",
    "    Parameters:\n",
    "        filename (str): The name of the data file.\n",
    "    Returns:\n",
    "        ranks (list): The ranks of the teams from best to worst.\n",
    "        teams (list): The names of the teams, also from best to worst.\n",
    "    \"\"\"\n",
    "    \n",
    "    all_games = []\n",
    "    with open('ncaa2013.csv', 'r') as ncaafile:\n",
    "        ncaafile.readline()    # reads and ignores the header line\n",
    "        for line in ncaafile:\n",
    "            all_games.append(line.strip().split(','))    # split on commas\n",
    "    \n",
    "    # 统计共有多少支球队\n",
    "    all_teams = set()\n",
    "    for item in all_games:\n",
    "        all_teams.update(item)\n",
    "    num = len(all_teams)\n",
    "    \n",
    "    # 给每支球队分配一个int的ID号\n",
    "    team_to_ID = {}\n",
    "    ID = 0\n",
    "    for item in all_teams:\n",
    "        team_to_ID[item] = ID\n",
    "        ID += 1\n",
    "    \n",
    "    # 初始化邻接矩阵\n",
    "    adj = np.zeros((num, num), dtype=int)\n",
    "    \n",
    "    # 计算邻近矩阵\n",
    "    for item in all_games:\n",
    "        adj[[team_to_ID[item[1]]], team_to_ID[item[0]]] = 1\n",
    "    \n",
    "    # 计算PageRank值\n",
    "    pagerank = iter_solve(adj, d=0.7)    \n",
    "    \n",
    "    # 把每支球队和它的pagerank值保存为字典\n",
    "    team_to_pagerank = {}\n",
    "    i = 0\n",
    "    for k in team_to_ID.keys():\n",
    "        team_to_pagerank[k] = pagerank[i][0]\n",
    "        i += 1\n",
    "        \n",
    "    # 按pagerank值给球队排名\n",
    "    teams_ranks = sorted(team_to_pagerank.items(), key=lambda item: item[1],\n",
    "                        reverse=True)\n",
    "    \n",
    "    teams = [x[0] for x in teams_ranks] \n",
    "    ranks = [x[1] for x in teams_ranks]\n",
    "    \n",
    "    return ranks, teams\n",
    "\n",
    "def main():\n",
    "\n",
    "    print(\"\\033[1mThe Top 5 teams and ranks are:\\033[0m\")\n",
    "    \n",
    "    ranks, teams = team_rank()\n",
    "    \n",
    "    for i in range(5):\n",
    "        print(teams[i], \"\\t\", ranks[i])\n",
    "\n",
    "if __name__ == '__main__':\n",
    "    main()"
   ]
  },
  {
   "cell_type": "code",
   "execution_count": null,
   "metadata": {},
   "outputs": [],
   "source": []
  }
 ],
 "metadata": {
  "kernelspec": {
   "display_name": "Python 3",
   "language": "python",
   "name": "python3"
  },
  "language_info": {
   "codemirror_mode": {
    "name": "ipython",
    "version": 3
   },
   "file_extension": ".py",
   "mimetype": "text/x-python",
   "name": "python",
   "nbconvert_exporter": "python",
   "pygments_lexer": "ipython3",
   "version": "3.6.7"
  }
 },
 "nbformat": 4,
 "nbformat_minor": 4
}
